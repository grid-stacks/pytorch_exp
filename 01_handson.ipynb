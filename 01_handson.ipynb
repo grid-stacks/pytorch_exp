{
 "cells": [
  {
   "cell_type": "code",
   "execution_count": 73,
   "id": "a695c6a0-9dfc-412c-b0ac-491b10f17d79",
   "metadata": {},
   "outputs": [],
   "source": [
    "import torch\n",
    "import numpy as np"
   ]
  },
  {
   "cell_type": "code",
   "execution_count": 7,
   "id": "f79d9265-fb82-4496-bc68-71857021b02b",
   "metadata": {},
   "outputs": [
    {
     "name": "stdout",
     "output_type": "stream",
     "text": [
      "tensor([0.4341, 0.4925, 0.9042])\n"
     ]
    }
   ],
   "source": [
    "# Test random numbers\n",
    "x = torch.rand(3)\n",
    "print(x)"
   ]
  },
  {
   "cell_type": "code",
   "execution_count": 8,
   "id": "25a289a1-390d-46d7-be74-89325388ef5e",
   "metadata": {},
   "outputs": [
    {
     "name": "stdout",
     "output_type": "stream",
     "text": [
      "False\n"
     ]
    }
   ],
   "source": [
    "# Check if cuda is available\n",
    "print(torch.cuda.is_available())"
   ]
  },
  {
   "cell_type": "code",
   "execution_count": 49,
   "id": "3e0780d0-8104-4b04-9f9d-dce6736ab1b8",
   "metadata": {},
   "outputs": [
    {
     "name": "stdout",
     "output_type": "stream",
     "text": [
      "torch.float32 tensor([-5.6236e-18])\n",
      "torch.float32 tensor([-5.6000e-18,  3.0766e-41, -5.5694e-18])\n",
      "torch.float32 tensor([[ 2.8078e-34,  4.5775e-41, -5.6416e-18,  3.0766e-41,  4.4842e-44],\n",
      "        [ 0.0000e+00,  8.9683e-44,  0.0000e+00, -5.6333e-18,  3.0766e-41],\n",
      "        [ 0.0000e+00,  0.0000e+00,  0.0000e+00,  0.0000e+00,  0.0000e+00]])\n",
      "torch.float32 tensor([[[ 2.8078e-34,  4.5775e-41, -5.6411e-18,  3.0766e-41,  1.4013e-45],\n",
      "         [ 0.0000e+00,  0.0000e+00,  0.0000e+00,  0.0000e+00,  0.0000e+00],\n",
      "         [ 0.0000e+00,  0.0000e+00, -5.5958e-18,  3.0766e-41, -2.2307e-18]],\n",
      "\n",
      "        [[ 3.0766e-41, -2.1279e+00,  4.5773e-41,  1.4013e-45,  0.0000e+00],\n",
      "         [ 1.1210e-44,  0.0000e+00,  0.0000e+00,  0.0000e+00,  0.0000e+00],\n",
      "         [ 0.0000e+00,  0.0000e+00,  0.0000e+00,  0.0000e+00,  0.0000e+00]]])\n",
      "torch.float32 tensor([[0.8723, 0.9502, 0.9154],\n",
      "        [0.7606, 0.7536, 0.6647]])\n",
      "torch.float32 tensor([[0., 0., 0.],\n",
      "        [0., 0., 0.]])\n",
      "torch.float32 tensor([[1., 1., 1.],\n",
      "        [1., 1., 1.]])\n",
      "torch.int32 torch.Size([2, 3]) tensor([[-1563592336,       21955, -1604799024],\n",
      "        [      21955,           0,           0]], dtype=torch.int32)\n",
      "torch.float64 torch.Size([2, 3]) tensor([[4.6590e-310, 6.9317e-310,  0.0000e+00],\n",
      "        [ 0.0000e+00,  0.0000e+00,  0.0000e+00]], dtype=torch.float64)\n",
      "torch.float16 torch.Size([2, 3]) tensor([[-8.3000e+01, -1.3298e-02,  9.2188e+01],\n",
      "        [ 0.0000e+00, -6.6400e+02, -1.3290e-02]], dtype=torch.float16)\n"
     ]
    }
   ],
   "source": [
    "# Initiate torch\n",
    "x = torch.empty(1)\n",
    "print(x.dtype, x)\n",
    "x = torch.empty(3)\n",
    "print(x.dtype, x)\n",
    "x = torch.empty(3, 5)\n",
    "print(x.dtype, x)\n",
    "x = torch.empty(2, 3, 5)\n",
    "print(x.dtype, x)\n",
    "\n",
    "x = torch.rand(2, 3)\n",
    "print(x.dtype, x)\n",
    "\n",
    "x = torch.zeros(2, 3)\n",
    "print(x.dtype, x)\n",
    "\n",
    "x = torch.ones(2, 3)\n",
    "print(x.dtype, x)\n",
    "\n",
    "# We can specify data type\n",
    "# and get size\n",
    "x = torch.empty(2, 3, dtype=torch.int)\n",
    "print(x.dtype, x.size(), x)\n",
    "x = torch.empty(2, 3, dtype=torch.double)\n",
    "print(x.dtype, x.size(), x)\n",
    "x = torch.empty(2, 3, dtype=torch.float16)\n",
    "print(x.dtype, x.size(), x)"
   ]
  },
  {
   "cell_type": "code",
   "execution_count": 52,
   "id": "d70df594-f90c-42f9-8203-3cd2e6e133b8",
   "metadata": {},
   "outputs": [
    {
     "name": "stdout",
     "output_type": "stream",
     "text": [
      "tensor([2, 4, 6])\n"
     ]
    }
   ],
   "source": [
    "x = torch.tensor([2, 4, 6])\n",
    "print(x)"
   ]
  },
  {
   "cell_type": "code",
   "execution_count": 56,
   "id": "bbb40367-8c16-417e-be1b-dbf532a2ab1d",
   "metadata": {},
   "outputs": [
    {
     "name": "stdout",
     "output_type": "stream",
     "text": [
      "tensor([[0.5747, 0.4497],\n",
      "        [0.7575, 0.7008]])\n",
      "tensor([[0.4512, 0.9151],\n",
      "        [0.1647, 0.5000]])\n",
      "tensor([[1.0259, 1.3648],\n",
      "        [0.9222, 1.2008]])\n",
      "tensor([[1.0259, 1.3648],\n",
      "        [0.9222, 1.2008]])\n",
      "tensor([[1.0259, 1.3648],\n",
      "        [0.9222, 1.2008]])\n",
      "tensor([[0.4512, 0.9151],\n",
      "        [0.1647, 0.5000]])\n"
     ]
    }
   ],
   "source": [
    "a = torch.rand(2, 2)\n",
    "b = torch.rand(2, 2)\n",
    "\n",
    "# Same addition\n",
    "c = a + b\n",
    "d = torch.add(a, b)\n",
    "\n",
    "print(a)\n",
    "print(b)\n",
    "print(c)\n",
    "print(d)\n",
    "\n",
    "# Here a will be modified\n",
    "a.add_(b)\n",
    "print(a)\n",
    "print(b)"
   ]
  },
  {
   "cell_type": "code",
   "execution_count": 59,
   "id": "ef1c2f06-0ad0-4ffd-ba97-a6d4497ac065",
   "metadata": {},
   "outputs": [
    {
     "name": "stdout",
     "output_type": "stream",
     "text": [
      "tensor([[0.5747, 0.4497],\n",
      "        [0.7575, 0.7008]])\n",
      "tensor([[0.4629, 1.2490],\n",
      "        [0.1518, 0.6004]])\n",
      "tensor([[2.2736, 1.4914],\n",
      "        [5.6003, 2.4017]])\n"
     ]
    }
   ],
   "source": [
    "e = torch.sub(a, b)\n",
    "f = torch.mul(a, b)\n",
    "g = torch.div(a, b)\n",
    "\n",
    "print(e)\n",
    "print(f)\n",
    "print(g)"
   ]
  },
  {
   "cell_type": "code",
   "execution_count": 68,
   "id": "2686a8ea-3627-4b4f-9ffc-4d2ee48038d9",
   "metadata": {},
   "outputs": [
    {
     "name": "stdout",
     "output_type": "stream",
     "text": [
      "tensor([[0.6536, 0.9264, 0.4468, 0.0552, 0.1663],\n",
      "        [0.5036, 0.7966, 0.5775, 0.8025, 0.6062],\n",
      "        [0.4017, 0.4909, 0.8385, 0.6045, 0.8961]])\n",
      "tensor([0.6536, 0.5036, 0.4017])\n",
      "tensor([0.9264, 0.7966, 0.4909])\n",
      "tensor([0.6536, 0.9264, 0.4468, 0.0552, 0.1663])\n",
      "tensor([0.4468, 0.0552, 0.1663])\n",
      "tensor(0.4468)\n",
      "0.44683003425598145\n"
     ]
    }
   ],
   "source": [
    "# Manipulation\n",
    "\n",
    "m = torch.rand(3, 5)\n",
    "print(m)\n",
    "\n",
    "# Select column\n",
    "print(m[:, 0])\n",
    "print(m[:, 1])\n",
    "print(m[0, :])\n",
    "print(m[0, 2:])\n",
    "\n",
    "print(m[0, 2])\n",
    "# Item can be retrived if there is only one value\n",
    "print(m[0, 2].item())"
   ]
  },
  {
   "cell_type": "code",
   "execution_count": 74,
   "id": "3b0af402-ad8b-4483-b28c-c6592128cb52",
   "metadata": {},
   "outputs": [
    {
     "name": "stdout",
     "output_type": "stream",
     "text": [
      "tensor([[0.5301, 0.9715, 0.3791, 0.1554],\n",
      "        [0.0319, 0.5665, 0.1646, 0.6775],\n",
      "        [0.9193, 0.7378, 0.2088, 0.9599],\n",
      "        [0.8214, 0.2818, 0.8223, 0.2554]])\n",
      "tensor([0.5301, 0.9715, 0.3791, 0.1554, 0.0319, 0.5665, 0.1646, 0.6775, 0.9193,\n",
      "        0.7378, 0.2088, 0.9599, 0.8214, 0.2818, 0.8223, 0.2554])\n",
      "tensor([[0.5301, 0.9715, 0.3791, 0.1554, 0.0319, 0.5665, 0.1646, 0.6775],\n",
      "        [0.9193, 0.7378, 0.2088, 0.9599, 0.8214, 0.2818, 0.8223, 0.2554]])\n",
      "tensor([[0.5301, 0.9715],\n",
      "        [0.3791, 0.1554],\n",
      "        [0.0319, 0.5665],\n",
      "        [0.1646, 0.6775],\n",
      "        [0.9193, 0.7378],\n",
      "        [0.2088, 0.9599],\n",
      "        [0.8214, 0.2818],\n",
      "        [0.8223, 0.2554]])\n",
      "tensor([[0.5301, 0.9715, 0.3791, 0.1554, 0.0319, 0.5665, 0.1646, 0.6775],\n",
      "        [0.9193, 0.7378, 0.2088, 0.9599, 0.8214, 0.2818, 0.8223, 0.2554]])\n"
     ]
    }
   ],
   "source": [
    "# Resizing tensors\n",
    "m = torch.rand(4, 4)\n",
    "print(m)\n",
    "\n",
    "n = m.view(16)\n",
    "print(n)\n",
    "n = m.view(2, 8)\n",
    "print(n)\n",
    "n = m.view(8, 2)\n",
    "print(n)\n",
    "n = m.view(-1, 8) # Torch will recalculate size\n",
    "print(n)"
   ]
  },
  {
   "cell_type": "code",
   "execution_count": 77,
   "id": "1bcf11db-2bad-484b-8250-ade65885d4af",
   "metadata": {},
   "outputs": [
    {
     "name": "stdout",
     "output_type": "stream",
     "text": [
      "<class 'torch.Tensor'> tensor([0.0585, 0.2217, 0.4288])\n",
      "<class 'numpy.ndarray'> [0.05853903 0.2216866  0.4288407 ]\n",
      "tensor([1.0585, 1.2217, 1.4288])\n",
      "[1.058539  1.2216866 1.4288406]\n"
     ]
    }
   ],
   "source": [
    "# Convert to numpy\n",
    "a = torch.rand(3)\n",
    "print(type(a), a)\n",
    "\n",
    "b = a.numpy()\n",
    "print(type(b), b)\n",
    "\n",
    "# Both a and b will be changed as they are directing same memory location\n",
    "a.add_(1)\n",
    "print(a)\n",
    "print(b)"
   ]
  },
  {
   "cell_type": "code",
   "execution_count": 81,
   "id": "18dace68-82ae-49d3-ad0f-582eaa2efefd",
   "metadata": {},
   "outputs": [
    {
     "name": "stdout",
     "output_type": "stream",
     "text": [
      "<class 'numpy.ndarray'> [1. 1. 1. 1. 1.]\n",
      "<class 'torch.Tensor'> tensor([1., 1., 1., 1., 1.], dtype=torch.float64)\n",
      "[2. 2. 2. 2. 2.]\n",
      "tensor([2., 2., 2., 2., 2.], dtype=torch.float64)\n"
     ]
    }
   ],
   "source": [
    "# Convert from numpy\n",
    "a = np.ones(5)\n",
    "print(type(a), a)\n",
    "\n",
    "b = torch.from_numpy(a)\n",
    "print(type(b), b)\n",
    "\n",
    "# Both a and b will be changed as they are directing same memory location\n",
    "a += 1\n",
    "print(a)\n",
    "print(b)"
   ]
  },
  {
   "cell_type": "code",
   "execution_count": null,
   "id": "782547b6-7c65-4da8-952c-9c25131a7bad",
   "metadata": {},
   "outputs": [],
   "source": []
  }
 ],
 "metadata": {
  "kernelspec": {
   "display_name": "Python 3 (ipykernel)",
   "language": "python",
   "name": "python3"
  },
  "language_info": {
   "codemirror_mode": {
    "name": "ipython",
    "version": 3
   },
   "file_extension": ".py",
   "mimetype": "text/x-python",
   "name": "python",
   "nbconvert_exporter": "python",
   "pygments_lexer": "ipython3",
   "version": "3.9.7"
  }
 },
 "nbformat": 4,
 "nbformat_minor": 5
}
